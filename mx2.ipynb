{
 "cells": [
  {
   "cell_type": "code",
   "execution_count": 1,
   "metadata": {},
   "outputs": [],
   "source": [
    "import numpy as np\n",
    "import pickle\n",
    "import pandas as pd\n",
    "import cv2\n",
    "import json\n",
    "import os\n",
    "import matplotlib.pyplot as plt\n",
    "#from utils.map_util import Razmetka\n",
    "#rm=Razmetka()"
   ]
  },
  {
   "cell_type": "code",
   "execution_count": 2,
   "metadata": {},
   "outputs": [
    {
     "name": "stdout",
     "output_type": "stream",
     "text": [
      "version\n",
      "meta\n",
      "image\n"
     ]
    }
   ],
   "source": [
    "import xml.etree.ElementTree as ET\n",
    "\n",
    "def transform_points(pstr):\n",
    "    return np.array([[float(p1) for p1 in b.split(',')] for b in pstr.split(';')])\n",
    "\n",
    "# Откройте XML файл\n",
    "with open(\"./annotations/mx4.xml\", \"r\") as f:\n",
    "    tree = ET.parse(f)\n",
    "\n",
    "root = tree.getroot()\n",
    "plist=[]\n",
    "# Итерируйте по дереву\n",
    "for child in root:\n",
    "    print(child.tag)\n",
    "    if child.tag=='image':\n",
    "        for child1 in child:\n",
    "            #print(child1.attrib['label'],child1.attrib['points'])\n",
    "            if 'points' in child1.attrib.keys():\n",
    "                plist.append({'label':child1.attrib['label'],\n",
    "                            'points':transform_points(child1.attrib['points'])})"
   ]
  },
  {
   "cell_type": "code",
   "execution_count": 3,
   "metadata": {},
   "outputs": [],
   "source": [
    "pidx=[]\n",
    "for idx,p in enumerate(plist):\n",
    "    if p['label']=='one_point':\n",
    "        pidx.append(idx)\n",
    "        \n",
    "zlist=[plist[i] for i in pidx]"
   ]
  },
  {
   "cell_type": "code",
   "execution_count": 4,
   "metadata": {},
   "outputs": [],
   "source": [
    "def sort_points(a):\n",
    "    # располангает длинную сторону по горизонтали сортирует точки tl,tr,br,bl\n",
    "    if (a[:,0].max()-a[:,0].min())<(a[:,1].max()-a[:,1].min()):\n",
    "        long_axis=1\n",
    "        short_axis=0\n",
    "    else:\n",
    "        long_axis=0\n",
    "        short_axis=1\n",
    "        \n",
    "    #find left,right\n",
    "    left=a[a[:,long_axis]<a[:,long_axis].mean()]\n",
    "    right=a[a[:,long_axis]>a[:,long_axis].mean()]\n",
    "    tl=left[left[:,short_axis]==left[:,short_axis].min()][0]\n",
    "    bl=left[left[:,short_axis]==left[:,short_axis].max()][0]\n",
    "    tr=right[right[:,short_axis]==right[:,short_axis].min()][0]\n",
    "    br=right[right[:,short_axis]==right[:,short_axis].max()][0]\n",
    "\n",
    "    return np.array([tl,tr,br,bl],dtype=np.float32)"
   ]
  },
  {
   "cell_type": "code",
   "execution_count": 4,
   "metadata": {},
   "outputs": [],
   "source": [
    "def sort_points(a):\n",
    "    # располагает длинную сторону по горизонтали сортирует точки tl,tr,br,bl\n",
    "    long_axis = np.argmax(np.max(a, axis=0) - np.min(a, axis=0))\n",
    "    short_axis = 1 - long_axis\n",
    "\n",
    "    # find left,right\n",
    "    left = a[a[:, long_axis] < np.mean(a[:, long_axis])]\n",
    "    right = a[a[:, long_axis] > np.mean(a[:, long_axis])]\n",
    "    tl = left[left[:, short_axis] == np.min(left[:, short_axis])][0]\n",
    "    bl = left[left[:, short_axis] == np.max(left[:, short_axis])][0]\n",
    "    tr = right[right[:, short_axis] == np.min(right[:, short_axis])][0]\n",
    "    br = right[right[:, short_axis] == np.max(right[:, short_axis])][0]\n",
    "\n",
    "    return np.array([tl, tr, br, bl], dtype=np.float32)"
   ]
  },
  {
   "cell_type": "code",
   "execution_count": 5,
   "metadata": {},
   "outputs": [],
   "source": [
    "def get_chessboard_nodes(rows, cols, cell_size):\n",
    "  \"\"\"\n",
    "  Возвращает точки пересечения клеток шахматной доски.\n",
    "\n",
    "  Args:\n",
    "    rows: Количество клеток в строках.\n",
    "    cols: Количество клеток в столбцах.\n",
    "    cell_size: Размер клетки.\n",
    "\n",
    "  Returns:\n",
    "    Множество точек пересечения клеток.\n",
    "  \"\"\"\n",
    "\n",
    "  nodes = set()\n",
    "  for row in range(rows):\n",
    "    for col in range(cols):\n",
    "      nodes.add((row * cell_size, col * cell_size))\n",
    "      nodes.add((row * cell_size + cell_size, col * cell_size))\n",
    "      nodes.add((row * cell_size, col * cell_size + cell_size))\n",
    "      nodes.add((row * cell_size + cell_size, col * cell_size + cell_size))\n",
    "\n",
    "  return nodes"
   ]
  },
  {
   "cell_type": "code",
   "execution_count": 6,
   "metadata": {},
   "outputs": [],
   "source": [
    "def generate_internal_nodes(n_rows, n_cols, field_size):\n",
    "  \"\"\"\n",
    "  Генерирует положение внутренних узлов шахматной доски.\n",
    "\n",
    "  Args:\n",
    "    n_rows: Количество строк.\n",
    "    n_cols: Количество столбцов.\n",
    "    field_size: Размер поля.\n",
    "\n",
    "  Returns:\n",
    "    Список положений внутренних узлов. значения x,y\n",
    "  \"\"\"\n",
    "  pos=[]\n",
    "  nodes = []\n",
    "  for row in range(1, n_rows):\n",
    "    for col in range(1, n_cols ):\n",
    "      nodes.append((col * field_size,row * field_size, ))\n",
    "      pos.append([col,row])\n",
    "  return np.array(nodes,dtype=np.float32),np.array(pos,dtype=int)"
   ]
  },
  {
   "cell_type": "code",
   "execution_count": 7,
   "metadata": {},
   "outputs": [],
   "source": [
    "def get_start_and_end_points(nodes, position):\n",
    "  \"\"\"\n",
    "  Возвращает начальную и конечную точки столбца узлов.\n",
    "\n",
    "  Args:\n",
    "    nodes: Список положений узлов.\n",
    "    position: Массив с координатами узлов.\n",
    "\n",
    "  Returns:\n",
    "    Начальная и конечная точки столбца узлов.\n",
    "  \"\"\"\n",
    "\n",
    "  # Уникальные значения первого столбца массива position.\n",
    "  unique_cols = np.unique(position[:, 0])\n",
    "  unique_rows = np.unique(position[:, 1])\n",
    "\n",
    "  # Начальные и конечные точки столбцов узлов.\n",
    "  column_lines = [\n",
    "      (nodes[position[:, 0] == col][position[position[:, 0] == col][:,1].argmin()],\n",
    "       nodes[position[:, 0] == col][position[position[:, 0] == col][:,1].argmax()])\n",
    "      for col in unique_cols\n",
    "  ]\n",
    "\n",
    "  # Начальные и конечные точки строк узлов.\n",
    "  row_lines = [\n",
    "      (nodes[position[:, 1] == row][position[position[:, 1] == row][:,0].argmin()],\n",
    "       nodes[position[:, 1] == row][position[position[:, 1] == row][:,0].argmax()])\n",
    "      for row in unique_rows\n",
    "  ]\n",
    "\n",
    "  return np.array(column_lines,dtype=int), np.array(row_lines,dtype=int)"
   ]
  },
  {
   "cell_type": "code",
   "execution_count": 8,
   "metadata": {},
   "outputs": [],
   "source": [
    "import skimage as ski\n",
    "def get_nodes_box(nodes,order=['tl','tr','br','bl']):\n",
    "    res={}\n",
    "    res['tl']=[0,0]\n",
    "    res['tr']=[nodes[:,0].max()+nodes[1,0]-nodes[0,0],0]\n",
    "    res['br']=[res['tr'][0],nodes[:,1].max()+nodes[1,0]-nodes[0,0]]\n",
    "    res['bl']=[res['tl'][0],res['br'][1]]\n",
    "    return np.array([res[pos] for pos in order],dtype=np.float32)\n",
    "\n",
    "nodes,position=generate_internal_nodes(6,12,20)    \n",
    "obj_box=get_nodes_box(nodes)\n",
    "img_pts=[]\n",
    "for ob in zlist:\n",
    "    img_box=sort_points(ob['points'].copy())\n",
    "    tform = ski.transform.ProjectiveTransform()\n",
    "    tform.estimate(obj_box,img_box)\n",
    "    image_points=tform(nodes)\n",
    "    corners=np.expand_dims(image_points,1)\n",
    "    img_pts.append(corners.astype(np.float32))\n",
    "    cl,rl=get_start_and_end_points(image_points, position)"
   ]
  },
  {
   "cell_type": "code",
   "execution_count": 25,
   "metadata": {},
   "outputs": [],
   "source": [
    "mx1=cv2.imread('./images/undistorted/v1.png')\n",
    "mx2=cv2.imread('./images/original/511.bmp')"
   ]
  },
  {
   "cell_type": "code",
   "execution_count": 12,
   "metadata": {},
   "outputs": [],
   "source": [
    "objp=np.zeros((nodes.shape[0],3),dtype=np.float32)\n",
    "objp[:,:2]=nodes[:,:2].copy()\n",
    "ret, mtx, dist, rvecs, tvecs = cv2.calibrateCamera([objp for i in range(len(img_pts))], img_pts, (mx1.shape[1],mx1.shape[0]), None, None)\n",
    "h,  w = mx1.shape[:2]\n",
    "newcameramtx, roi = cv2.getOptimalNewCameraMatrix(mtx, dist, (w,h), 1, (w,h))\n",
    "dst = cv2.undistort(mx1, mtx, dist, None, newcameramtx)"
   ]
  }
 ],
 "metadata": {
  "kernelspec": {
   "display_name": "env",
   "language": "python",
   "name": "python3"
  },
  "language_info": {
   "codemirror_mode": {
    "name": "ipython",
    "version": 3
   },
   "file_extension": ".py",
   "mimetype": "text/x-python",
   "name": "python",
   "nbconvert_exporter": "python",
   "pygments_lexer": "ipython3",
   "version": "3.8.18"
  },
  "orig_nbformat": 4
 },
 "nbformat": 4,
 "nbformat_minor": 2
}
